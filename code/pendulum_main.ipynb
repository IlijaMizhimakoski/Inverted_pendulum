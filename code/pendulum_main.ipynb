{
 "cells": [
  {
   "cell_type": "code",
   "execution_count": 3,
   "id": "11833017-939b-4130-b5aa-6db01a6ae62f",
   "metadata": {},
   "outputs": [],
   "source": [
    "import cpip"
   ]
  },
  {
   "cell_type": "code",
   "execution_count": 4,
   "id": "1c48fe3f-e091-4f20-8b53-a853d0b8a925",
   "metadata": {},
   "outputs": [],
   "source": [
    "class PID:\n",
    "    def __init__(self, setpoint=180, kp=0, ki=0, kd=0, max_torque=300):\n",
    "        self.setpoint = setpoint\n",
    "        self.max_torque = max_torque\n",
    "        self.kp, self.ki, self.kd = kp, ki, kd\n",
    "        self.last_error = 0\n",
    "        self.sum_error = 0\n",
    "\n",
    "    def __call__(self, balancing, theta):\n",
    "        if balancing is False:\n",
    "            self.sum_error = 0\n",
    "        error = self.setpoint - theta\n",
    "        d_error = error - self.last_error\n",
    "        self.sum_error += self.ki * error\n",
    "        action = self.kp * error + self.sum_error + self.kd * d_error\n",
    "        self.last_error = error\n",
    "        # print('action:', action, end='\\r')\n",
    "        action = action if -self.max_torque < action < self.max_torque else 0\n",
    "        return action\n",
    "\n",
    "controller = PID()"
   ]
  },
  {
   "cell_type": "code",
   "execution_count": 5,
   "id": "95f611fd-94eb-43e4-b9ac-2de8f1b18301",
   "metadata": {},
   "outputs": [],
   "source": [
    "controller.kp = 36\n",
    "controller.ki = 0.7\n",
    "controller.kd = 7"
   ]
  },
  {
   "cell_type": "code",
   "execution_count": 6,
   "id": "07e0f827-282d-4091-a274-f6a9f00054be",
   "metadata": {},
   "outputs": [
    {
     "name": "stdout",
     "output_type": "stream",
     "text": [
      "Пронајдени се повеќе етернет адаптери, го користиме последниот во листата \\Device\\NPF_{74130C1F-BE8D-4666-A8B2-86775047A9D5}.\n",
      "Пронајден е двигателот на моторот.\n"
     ]
    }
   ],
   "source": [
    "driver = cpip.MotorDriver(controller, limit_theta_abs=20)"
   ]
  },
  {
   "cell_type": "code",
   "execution_count": 1,
   "id": "5bfff07a-607c-4300-b168-a1c86da51ae4",
   "metadata": {},
   "outputs": [
    {
     "ename": "NameError",
     "evalue": "name 'driver' is not defined",
     "output_type": "error",
     "traceback": [
      "\u001b[1;31m---------------------------------------------------------------------------\u001b[0m",
      "\u001b[1;31mNameError\u001b[0m                                 Traceback (most recent call last)",
      "Cell \u001b[1;32mIn[1], line 1\u001b[0m\n\u001b[1;32m----> 1\u001b[0m \u001b[43mdriver\u001b[49m\u001b[38;5;241m.\u001b[39monline \u001b[38;5;241m=\u001b[39m \u001b[38;5;28;01mFalse\u001b[39;00m\n",
      "\u001b[1;31mNameError\u001b[0m: name 'driver' is not defined"
     ]
    }
   ],
   "source": [
    "driver.online = False"
   ]
  },
  {
   "cell_type": "code",
   "execution_count": 17,
   "id": "7244237e-3adb-478c-8911-2e1a4d3a80bf",
   "metadata": {},
   "outputs": [
    {
     "data": {
      "text/plain": [
       "True"
      ]
     },
     "execution_count": 17,
     "metadata": {},
     "output_type": "execute_result"
    }
   ],
   "source": [
    "driver._balancing"
   ]
  },
  {
   "cell_type": "code",
   "execution_count": 6,
   "id": "4be9c4a4-f521-4ef7-b918-386566ccd820",
   "metadata": {},
   "outputs": [],
   "source": [
    "controller.kp = 36\n",
    "controller.ki = 0.2\n",
    "controller.kd = 4"
   ]
  }
 ],
 "metadata": {
  "kernelspec": {
   "display_name": "Python 3 (ipykernel)",
   "language": "python",
   "name": "python3"
  },
  "language_info": {
   "codemirror_mode": {
    "name": "ipython",
    "version": 3
   },
   "file_extension": ".py",
   "mimetype": "text/x-python",
   "name": "python",
   "nbconvert_exporter": "python",
   "pygments_lexer": "ipython3",
   "version": "3.11.8"
  }
 },
 "nbformat": 4,
 "nbformat_minor": 5
}
